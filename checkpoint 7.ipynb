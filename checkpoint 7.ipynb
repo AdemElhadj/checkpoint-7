{
 "cells": [
  {
   "cell_type": "code",
   "execution_count": 2,
   "id": "0df5c459",
   "metadata": {},
   "outputs": [
    {
     "data": {
      "text/plain": [
       "'What is Python language?                                                \\nPython is a widely used high-level, general-purpose, interpreted, dynamic programming language.Its design philosophy emphasizes code readability, and its syntax allows programmers to express concepts in fewer lines of code than possible in \\nlanguages such as C++ or Java. \\nPython supports multiple programming paradigms, including object-oriented, imperative and functional programming or procedural styles. It features a dynamic type system and automatic memory management and has a large and comprehensive standard library.The best way we learn anything is by practice and exercise questions. We  have started this section for those (beginner to intermediate) who are familiar with Python.'"
      ]
     },
     "execution_count": 2,
     "metadata": {},
     "output_type": "execute_result"
    }
   ],
   "source": [
    "f = open(\"E:\\python.txt\")\n",
    "f.read() "
   ]
  },
  {
   "cell_type": "code",
   "execution_count": 6,
   "id": "c93a4c26",
   "metadata": {},
   "outputs": [
    {
     "name": "stdout",
     "output_type": "stream",
     "text": [
      "['What is Python language?                                                \\n']\n"
     ]
    }
   ],
   "source": [
    "f = open(\"E:\\python.txt\")\n",
    "print(f.readlines(1))\n"
   ]
  },
  {
   "cell_type": "code",
   "execution_count": 21,
   "id": "0d29eea5",
   "metadata": {},
   "outputs": [
    {
     "name": "stdout",
     "output_type": "stream",
     "text": [
      "Python supports multiple programming paradigms, including object-oriented, imperative and functional programming or procedural styles. It features a dynamic type system and automatic memory management and has a large and comprehensive standard library.The best way we learn anything is by practice and exercise questions. We  have started this section for those (beginner to intermediate) who are familiar with Python.\n"
     ]
    }
   ],
   "source": [
    "\n",
    "with open(\"E:\\python.txt\") as file:            \n",
    "    lines = file.readlines()\n",
    "print(lines[-1])\n"
   ]
  },
  {
   "cell_type": "code",
   "execution_count": 23,
   "id": "d84c45c7",
   "metadata": {},
   "outputs": [
    {
     "name": "stdout",
     "output_type": "stream",
     "text": [
      "100\n"
     ]
    }
   ],
   "source": [
    "with open(\"E:\\python.txt\") as f:\n",
    "\tlines=f.read()\n",
    "\twords=lines.split()\n",
    "\tprint(len(words))\n"
   ]
  },
  {
   "cell_type": "code",
   "execution_count": null,
   "id": "09665431",
   "metadata": {},
   "outputs": [],
   "source": []
  }
 ],
 "metadata": {
  "kernelspec": {
   "display_name": "Python 3 (ipykernel)",
   "language": "python",
   "name": "python3"
  },
  "language_info": {
   "codemirror_mode": {
    "name": "ipython",
    "version": 3
   },
   "file_extension": ".py",
   "mimetype": "text/x-python",
   "name": "python",
   "nbconvert_exporter": "python",
   "pygments_lexer": "ipython3",
   "version": "3.9.7"
  }
 },
 "nbformat": 4,
 "nbformat_minor": 5
}
